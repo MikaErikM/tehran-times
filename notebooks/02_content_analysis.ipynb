{
 "cells": [
  {
   "cell_type": "code",
   "execution_count": null,
   "metadata": {
    "vscode": {
     "languageId": "plaintext"
    }
   },
   "outputs": [],
   "source": [
    "\"\"\"Text analysis and topic modeling\"\"\"\n",
    "\n",
    "import pandas as pd\n",
    "import matplotlib.pyplot as plt\n",
    "import seaborn as sns\n",
    "from collections import Counter\n",
    "import re\n",
    "\n",
    "# Load data\n",
    "df = pd.read_csv(\"data/processed/articles.csv\", sep=';')\n",
    "\n",
    "# Category Analysis\n",
    "plt.figure(figsize=(12, 6))\n",
    "df['category'].value_counts().plot(kind='bar')\n",
    "plt.title('Article Categories')\n",
    "plt.xticks(rotation=45)\n",
    "plt.tight_layout()\n",
    "plt.show()\n",
    "\n",
    "# Tag Analysis\n",
    "def analyze_tags():\n",
    "    # Combine all tags\n",
    "    all_tags = []\n",
    "    for tags in df['tags'].dropna():\n",
    "        all_tags.extend(tags.split(','))\n",
    "    \n",
    "    # Count tags\n",
    "    tag_counts = Counter(all_tags)\n",
    "    \n",
    "    # Plot top tags\n",
    "    plt.figure(figsize=(12, 6))\n",
    "    pd.Series(dict(tag_counts.most_common(20))).plot(kind='bar')\n",
    "    plt.title('Top 20 Tags')\n",
    "    plt.xticks(rotation=45)\n",
    "    plt.tight_layout()\n",
    "    plt.show()\n",
    "\n",
    "analyze_tags()\n",
    "\n",
    "# Length Distributions\n",
    "for col in ['title', 'summary', 'body']:\n",
    "    plt.figure(figsize=(12, 4))\n",
    "    df[col].str.len().hist(bins=50)\n",
    "    plt.title(f'{col.capitalize()} Length Distribution')\n",
    "    plt.xlabel('Number of Characters')\n",
    "    plt.ylabel('Count')\n",
    "    plt.tight_layout()\n",
    "    plt.show()"
   ]
  }
 ],
 "metadata": {
  "language_info": {
   "name": "python"
  }
 },
 "nbformat": 4,
 "nbformat_minor": 2
}
