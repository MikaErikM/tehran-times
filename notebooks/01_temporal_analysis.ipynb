{
 "cells": [
  {
   "cell_type": "code",
   "execution_count": null,
   "metadata": {
    "vscode": {
     "languageId": "plaintext"
    }
   },
   "outputs": [],
   "source": [
    "\"\"\"Time-based analysis of article publication patterns\"\"\"\n",
    "\n",
    "import pandas as pd\n",
    "import matplotlib.pyplot as plt\n",
    "import seaborn as sns\n",
    "import matplotlib.dates as mdates\n",
    "from datetime import datetime\n",
    "\n",
    "# Load data\n",
    "df = pd.read_csv(\"data/processed/articles.csv\", sep=';')\n",
    "\n",
    "# Convert dates\n",
    "df['date_for_analysis'] = pd.to_datetime(df['published_date'], errors='coerce')\n",
    "df['weekday'] = df['date_for_analysis'].dt.day_name()\n",
    "df['hour'] = df['date_for_analysis'].dt.hour\n",
    "\n",
    "# Daily distribution\n",
    "def plot_daily_distribution():\n",
    "    df_daily = df.groupby(pd.Grouper(key='date_for_analysis', freq='D')).size()\n",
    "    \n",
    "    fig, ax = plt.subplots(figsize=(15, 6))\n",
    "    ax.bar(df_daily.index, df_daily.values, width=1, color='blue', alpha=0.6)\n",
    "    \n",
    "    ax.xaxis.set_major_locator(mdates.YearLocator())\n",
    "    ax.xaxis.set_major_formatter(mdates.DateFormatter('%Y'))\n",
    "    plt.xticks(rotation=45)\n",
    "    \n",
    "    plt.title('Daily Article Distribution')\n",
    "    plt.xlabel('Year')\n",
    "    plt.ylabel('Number of Articles')\n",
    "    plt.grid(True, alpha=0.3)\n",
    "    plt.tight_layout()\n",
    "    plt.show()\n",
    "\n",
    "plot_daily_distribution()\n",
    "\n",
    "# Publication patterns\n",
    "fig, (ax1, ax2) = plt.subplots(1, 2, figsize=(15, 5))\n",
    "\n",
    "# Weekly pattern\n",
    "sns.countplot(data=df, x='weekday', ax=ax1)\n",
    "ax1.set_title('Articles by Day of Week')\n",
    "plt.xticks(rotation=45)\n",
    "\n",
    "# Hourly pattern\n",
    "sns.countplot(data=df, x='hour', ax=ax2)\n",
    "ax2.set_title('Articles by Hour')\n",
    "\n",
    "plt.tight_layout()\n",
    "plt.show()"
   ]
  }
 ],
 "metadata": {
  "language_info": {
   "name": "python"
  }
 },
 "nbformat": 4,
 "nbformat_minor": 2
}
