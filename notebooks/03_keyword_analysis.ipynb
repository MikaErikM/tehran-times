{
 "cells": [
  {
   "cell_type": "code",
   "execution_count": null,
   "metadata": {
    "vscode": {
     "languageId": "plaintext"
    }
   },
   "outputs": [],
   "source": [
    "\"\"\"Keyword frequency analysis over time\"\"\"\n",
    "\n",
    "import pandas as pd\n",
    "import matplotlib.pyplot as plt\n",
    "import seaborn as sns\n",
    "\n",
    "def analyze_keywords(df, keywords, time_group='M'):\n",
    "    \"\"\"Analyze keyword frequency over time.\"\"\"\n",
    "    df['date'] = pd.to_datetime(df['published_date'])\n",
    "    \n",
    "    # Calculate base word count\n",
    "    df['total_words'] = df['body'].str.count(r'\\w+')\n",
    "    word_counts = df.groupby(pd.Grouper(key='date', freq=time_group))['total_words'].sum()\n",
    "    \n",
    "    # Calculate keyword frequencies\n",
    "    results = {}\n",
    "    for keyword in keywords:\n",
    "        df[f'kw_{keyword}'] = df['body'].str.count(keyword)\n",
    "        kw_counts = df.groupby(pd.Grouper(key='date', freq=time_group))[f'kw_{keyword}'].sum()\n",
    "        results[keyword] = (kw_counts / word_counts) * 1000\n",
    "    \n",
    "    return results\n",
    "\n",
    "# Load data\n",
    "df = pd.read_csv(\"data/processed/articles.csv\", sep=';')\n",
    "\n",
    "# Example keywords\n",
    "keywords = ['nuclear', 'sanctions', 'economy', 'oil']\n",
    "frequencies = analyze_keywords(df, keywords)\n",
    "\n",
    "# Plot results\n",
    "plt.figure(figsize=(15, 6))\n",
    "for keyword, freq in frequencies.items():\n",
    "    plt.plot(freq.index, freq.values, label=keyword, marker='o', markersize=4)\n",
    "\n",
    "plt.title('Keyword Frequency Over Time (per 1000 words)')\n",
    "plt.xlabel('Date')\n",
    "plt.ylabel('Frequency')\n",
    "plt.legend()\n",
    "plt.grid(True, alpha=0.3)\n",
    "plt.xticks(rotation=45)\n",
    "plt.tight_layout()\n",
    "plt.show()"
   ]
  }
 ],
 "metadata": {
  "language_info": {
   "name": "python"
  }
 },
 "nbformat": 4,
 "nbformat_minor": 2
}
