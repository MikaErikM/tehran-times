{
 "cells": [
  {
   "cell_type": "code",
   "execution_count": null,
   "metadata": {},
   "outputs": [],
   "source": [
    "\"\"\"Initial data exploration and quality assessment\"\"\"\n",
    "\n",
    "import pandas as pd\n",
    "import numpy as np\n",
    "import matplotlib.pyplot as plt\n",
    "import seaborn as sns\n",
    "from datetime import datetime\n",
    "import logging\n",
    "\n",
    "# Constants\n",
    "TEXT_COLUMNS = ['original_title', 'original_intro', 'summary', 'body']\n",
    "DATE_COLUMNS = ['first_seen_date', 'original_time', 'scraped_date', 'download_timestamp']\n",
    "FILE_PATH = \"data/processed/articles.csv\"\n",
    "\n",
    "# Load Data\n",
    "print(\"=== DATA LOADING AND INITIAL INSPECTION ===\")\n",
    "df = pd.read_csv(FILE_PATH, sep=';', quoting=1)\n",
    "print(f\"Loaded {len(df)} articles\")\n",
    "print(\"\\nDataFrame Info:\")\n",
    "print(df.info())\n",
    "\n",
    "# Data Quality Analysis\n",
    "print(\"\\n=== DATA QUALITY ANALYSIS ===\")\n",
    "for col in df.columns:\n",
    "    unique_count = df[col].nunique()\n",
    "    missing = df[col].isnull().sum()\n",
    "    empty_str = (df[col] == '').sum() if df[col].dtype == 'object' else 0\n",
    "    \n",
    "    print(f\"\\nColumn: {col}\")\n",
    "    print(f\"Data type: {df[col].dtype}\")\n",
    "    print(f\"Unique values: {unique_count}\")\n",
    "    print(f\"NULL values: {missing}\")\n",
    "    print(f\"Empty strings: {empty_str}\")\n",
    "\n",
    "# Basic Text Statistics\n",
    "print(\"\\n=== TEXT STATISTICS ===\")\n",
    "for col in TEXT_COLUMNS:\n",
    "    if col in df.columns:\n",
    "        lengths = df[col].str.len()\n",
    "        print(f\"\\n{col.upper()}:\")\n",
    "        print(lengths.describe())"
   ]
  }
 ],
 "metadata": {
  "kernelspec": {
   "display_name": "Python 3",
   "language": "python",
   "name": "python3"
  },
  "language_info": {
   "name": "python",
   "version": "3.12.0"
  }
 },
 "nbformat": 4,
 "nbformat_minor": 2
}
